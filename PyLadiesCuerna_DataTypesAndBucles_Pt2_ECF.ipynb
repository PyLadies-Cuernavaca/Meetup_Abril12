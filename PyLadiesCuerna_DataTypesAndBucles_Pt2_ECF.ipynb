{
  "nbformat": 4,
  "nbformat_minor": 0,
  "metadata": {
    "colab": {
      "provenance": [],
      "toc_visible": true
    },
    "kernelspec": {
      "name": "python3",
      "display_name": "Python 3"
    },
    "language_info": {
      "name": "python"
    }
  },
  "cells": [
    {
      "cell_type": "markdown",
      "source": [
        "# Tipos de Datos y Ciclos (segunda parte)\n",
        "PyLadies Cuernavca"
      ],
      "metadata": {
        "id": "W0KyzDPDh9gJ"
      }
    },
    {
      "cell_type": "markdown",
      "source": [
        "## Tuplas\n",
        "Una tupla es una colección ordenada e inmutable de elementos. Se define utilizando paréntesis ( ) y los elementos se separan por comas ','. Las tuplas pueden contener cualquier tipo de datos, incluyendo números, cadenas, listas u otras tuplas. A diferencia de las listas, las tuplas son inmutables, lo que significa que no se pueden modificar después de ser creadas."
      ],
      "metadata": {
        "id": "TpTvzwoTRwB0"
      }
    },
    {
      "cell_type": "code",
      "source": [
        "# Definir una tupla\n",
        "mi_tupla = (1, 'c')\n",
        "print(mi_tupla)"
      ],
      "metadata": {
        "colab": {
          "base_uri": "https://localhost:8080/"
        },
        "id": "TliYYCgQSEp-",
        "outputId": "2a70f4c6-5e7c-4076-d53a-ebc816834be1"
      },
      "execution_count": 141,
      "outputs": [
        {
          "output_type": "stream",
          "name": "stdout",
          "text": [
            "(1, 'c')\n"
          ]
        }
      ]
    },
    {
      "cell_type": "code",
      "source": [
        "# Acceder a elementos de la tupla por índice\n",
        "print(mi_tupla[0])\n",
        "print(mi_tupla[1])"
      ],
      "metadata": {
        "colab": {
          "base_uri": "https://localhost:8080/"
        },
        "id": "48SJ3pEHSP4P",
        "outputId": "1e6dddda-eff9-4913-ea1b-bf955d5eaba4"
      },
      "execution_count": 143,
      "outputs": [
        {
          "output_type": "stream",
          "name": "stdout",
          "text": [
            "1\n",
            "c\n"
          ]
        }
      ]
    },
    {
      "cell_type": "code",
      "source": [
        "# Acceder a elementos de la tupla utilizando slicing\n",
        "print(mi_tupla[:])"
      ],
      "metadata": {
        "colab": {
          "base_uri": "https://localhost:8080/"
        },
        "id": "Whpcg2SLSYNf",
        "outputId": "069991d4-8c79-4ad5-e5c8-913acb607e51"
      },
      "execution_count": 145,
      "outputs": [
        {
          "output_type": "stream",
          "name": "stdout",
          "text": [
            "(1, 'c')\n"
          ]
        }
      ]
    },
    {
      "cell_type": "code",
      "source": [
        "# No se puede modificar una tupla después de ser creada (es inmutable)\n",
        "mi_tupla[0] = 5"
      ],
      "metadata": {
        "colab": {
          "base_uri": "https://localhost:8080/",
          "height": 162
        },
        "id": "SNL_CQYtSh9B",
        "outputId": "4f832ac0-b56e-4484-9628-3d154893490b"
      },
      "execution_count": 146,
      "outputs": [
        {
          "output_type": "error",
          "ename": "TypeError",
          "evalue": "'tuple' object does not support item assignment",
          "traceback": [
            "\u001b[0;31m---------------------------------------------------------------------------\u001b[0m",
            "\u001b[0;31mTypeError\u001b[0m                                 Traceback (most recent call last)",
            "\u001b[0;32m<ipython-input-146-4812f3f496a5>\u001b[0m in \u001b[0;36m<cell line: 2>\u001b[0;34m()\u001b[0m\n\u001b[1;32m      1\u001b[0m \u001b[0;31m# No se puede modificar una tupla después de ser creada (es inmutable)\u001b[0m\u001b[0;34m\u001b[0m\u001b[0;34m\u001b[0m\u001b[0m\n\u001b[0;32m----> 2\u001b[0;31m \u001b[0mmi_tupla\u001b[0m\u001b[0;34m[\u001b[0m\u001b[0;36m0\u001b[0m\u001b[0;34m]\u001b[0m \u001b[0;34m=\u001b[0m \u001b[0;36m5\u001b[0m\u001b[0;34m\u001b[0m\u001b[0;34m\u001b[0m\u001b[0m\n\u001b[0m",
            "\u001b[0;31mTypeError\u001b[0m: 'tuple' object does not support item assignment"
          ]
        }
      ]
    },
    {
      "cell_type": "markdown",
      "source": [
        "## Diccionarios\n",
        "\n",
        "Un diccionario es una colección mutable, desordenada y indexada de pares llave-valor. Se define utilizando llaves { }, y los elementos del diccionario se separan por comas ,\n",
        "\n",
        "\n",
        "Cada par llave-valor en un diccionario está formado por una clave única y su correspondiente valor, y la clave se utiliza para acceder al valor asociado.\n",
        "\n",
        "Los principales métodos para manipular diccionarios en Python son los siguientes:\n",
        "\n",
        "\n",
        "```\n",
        ".keys(): retorna la lista de llaves en el diccionario.\n",
        ".values(): retorna la lista de valores almacenados en el diccionario.\n",
        ".items(): retorna las tuplas de los pares llave-valor en el diccionario.\n",
        ".pop(): retorna como salida el valor almacenado y elimina el par llave-valor de la llave que sea especificada entre los paréntesis.\n",
        ".popitem(): retorna como salida y elimina el último par  llave-valor almacenado en el diccionario.\n",
        ".clear(): elimina el contenido del diccionario.\n",
        ".get(): obtiene el valor de una llave del diccionario y no retorna un error si la llave no existe.\n",
        "\n",
        "```"
      ],
      "metadata": {
        "id": "0lIBKhKpRdGx"
      }
    },
    {
      "cell_type": "code",
      "source": [
        "#Define diccionario vacio\n",
        "dictionary = dict()\n",
        "\n",
        "#Imprime el diccionario definido\n",
        "print(dictionary)\n",
        "\n",
        "\n",
        "#Asigna nuevos pares llave-valor al diccionario\n",
        "dictionary['key1'] = 'valor1'\n",
        "dictionary['key2'] = 123"
      ],
      "metadata": {
        "id": "60l3lc0VpRqQ"
      },
      "execution_count": null,
      "outputs": []
    },
    {
      "cell_type": "code",
      "source": [
        "#imprime todo el diccionario\n"
      ],
      "metadata": {
        "id": "5-OQ_mm6R3nv"
      },
      "execution_count": 147,
      "outputs": []
    },
    {
      "cell_type": "code",
      "source": [
        "#define un diccionario con pares de llave-valor e imprimelo\n",
        "info_personal = {\n",
        "    'nombre': ,\n",
        "    'apellido paterno': ,\n",
        "    'apellido materno': ,\n",
        "    'correo': ,\n",
        "}\n",
        "\n",
        "print(info_personal)"
      ],
      "metadata": {
        "id": "K3CVdvI_ADHt"
      },
      "execution_count": null,
      "outputs": []
    },
    {
      "cell_type": "code",
      "source": [
        "#Agrega un nuevo par llave-valor al diccionario definido e imprime\n",
        "info_personal['telefono'] = 7680324\n",
        "print(info_personal)"
      ],
      "metadata": {
        "id": "zKVfUEDwQBBo"
      },
      "execution_count": null,
      "outputs": []
    },
    {
      "cell_type": "code",
      "source": [
        "#Modifica el valor de una llave telefono e imprime\n",
        "# Aquí tu línea de código\n",
        "print(info_personal)"
      ],
      "metadata": {
        "id": "LPXAon8nERkm"
      },
      "execution_count": null,
      "outputs": []
    },
    {
      "cell_type": "code",
      "source": [
        "#Uso de tuplas como llaves en un diccionario\n",
        "estudiantes = {\n",
        "    ('Lab5', 'bioinformaticos'): 5,\n",
        "    ('Lab5', 'experimentales'): 13,\n",
        "    ('Lab6', 'bioinformaticos'): 8,\n",
        "    ('Lab6', 'experimentales'): 10\n",
        "}\n",
        "estudiantes[('Lab6', 'experimentales')]"
      ],
      "metadata": {
        "id": "skzkRYwaIqAh"
      },
      "execution_count": null,
      "outputs": []
    },
    {
      "cell_type": "code",
      "source": [
        "#Método integrado 'keys'\n",
        "print(estudiantes.keys())"
      ],
      "metadata": {
        "id": "rA_pospAZCkk"
      },
      "execution_count": null,
      "outputs": []
    },
    {
      "cell_type": "code",
      "source": [
        "#Método integrado 'values'\n",
        "print(estudiantes.values())"
      ],
      "metadata": {
        "id": "-uwaeIIBc_qd"
      },
      "execution_count": null,
      "outputs": []
    },
    {
      "cell_type": "code",
      "source": [
        "#Método integrado 'items'\n",
        "print(estudiantes.items())"
      ],
      "metadata": {
        "id": "g1To6hHUd3Z9"
      },
      "execution_count": null,
      "outputs": []
    },
    {
      "cell_type": "code",
      "source": [
        "#Método integrado 'pop'\n",
        "print(estudiantes.pop(('Lab5', 'bioinformaticos')))\n",
        "print(estudiantes.items())"
      ],
      "metadata": {
        "id": "SXX2AXCUehLK"
      },
      "execution_count": null,
      "outputs": []
    },
    {
      "cell_type": "code",
      "source": [
        "#Método integrado 'popitem'\n",
        "print(estudiantes.popitem())\n",
        "print(estudiantes.items())"
      ],
      "metadata": {
        "id": "i45Hu0KAfSbE"
      },
      "execution_count": null,
      "outputs": []
    },
    {
      "cell_type": "code",
      "source": [
        "#Metodo integrado 'clear'\n",
        "estudiantes.clear()\n",
        "print(estudiantes.values())"
      ],
      "metadata": {
        "id": "S6CfHNXOO0u3"
      },
      "execution_count": null,
      "outputs": []
    },
    {
      "cell_type": "code",
      "source": [
        "#Agregamos nuevamente pares llave-valor al diccionario que está vacío\n",
        "print(estudiantes)\n",
        "estudiantes[('Lab6', 'experimentales')] = 10\n",
        "estudiantes[('Lab6', 'bioinformaticos')] = 8\n",
        "#Método integrado 'get'\n",
        "print(estudiantes.get(('Lab6', 'experimentales')))\n",
        "print(estudiantes.get(('Lab5', 'experimentales')))"
      ],
      "metadata": {
        "id": "z0RwxoJkO4ye"
      },
      "execution_count": null,
      "outputs": []
    },
    {
      "cell_type": "code",
      "source": [
        "print(estudiantes[('Lab5', 'experimentales')])"
      ],
      "metadata": {
        "id": "FIPJWRcQW85G"
      },
      "execution_count": null,
      "outputs": []
    },
    {
      "cell_type": "code",
      "source": [
        "#método incorporado 'copy()'\n",
        "copia_estudiantes = estudiantes.copy()\n",
        "print(copia_estudiantes)"
      ],
      "metadata": {
        "id": "y8hyNTcOb1oa"
      },
      "execution_count": null,
      "outputs": []
    },
    {
      "cell_type": "code",
      "source": [
        "#Ejemplo del uso de un diccionario con secuencias de ADN\n",
        "kmers = {\n",
        "    'acta_1': 'CGCCCTCAGGAGAGCCCGCCCGATGCGGCCCGCCCGCTGCCCGCGTGCGGTCATGCGGCTCACTGTTCGGGTAGCCCCGTAGGTCCCTGCTCGGGTAGCC',\n",
        "    'acta_2': 'TCAGGAGAGCCCGCCCGATGCGGCCCGCCCGCTGCCCGCGTGCGGTCATGCGGCTCACTGTTCGGGTAGCCCCGTAGGTCCCTGCTCGGGTAGCCCGGTC',\n",
        "    'acta_3' : 'AGAGCCCGCCCGATGCGGCCCGCCCGCTGCCCGCGTGCGGTCATGCGGCTCACTGTTCGGGTAGCCCCGTAGGTCCCTGCTCGGGTAGCCCGGTCGGTCC',\n",
        "    'acta_4' : 'CCGCCCGATGCGGCCCGCCCGCTGCCCGCGTGCGGTCATGCGGCTCACTGTTCGGGTAGCCCCGTAGGTCCCTGCTCGGGTAGCCCGGTCGGTCCCTGCT',\n",
        "    'acta_5' : 'CGATGCGGCCCGCCCGCTGCCCGCGTGCGGTCATGCGGCTCACTGTTCGGGTAGCCCCGTAGGTCCCTGCTCGGGTAGCCCGGTCGGTCCCTGCTCGGCG'\n",
        "}\n",
        "print(kmers)"
      ],
      "metadata": {
        "id": "rzfXuuFfjbnQ"
      },
      "execution_count": null,
      "outputs": []
    },
    {
      "cell_type": "code",
      "source": [
        "#Extrae las secuencias del kmer-2 y kmer-4\n",
        "print(kmers.get('acta_6', -1))"
      ],
      "metadata": {
        "id": "WjDTyY5juiOT"
      },
      "execution_count": null,
      "outputs": []
    },
    {
      "cell_type": "markdown",
      "source": [
        "## Operadores"
      ],
      "metadata": {
        "id": "A0S4iezv4y9T"
      }
    },
    {
      "cell_type": "markdown",
      "source": [
        "### Operadores aritméticos\n",
        "\n",
        "Los operadores aritméticos en Python son utilizados para realizar operaciones matemáticas sobre operandos. Los operadores principales son los siguientes:\n",
        "\n",
        "```\n",
        " +  Suma\n",
        " -  Resta\n",
        " *  Multiplicación\n",
        " /  División\n",
        " //  División entera\n",
        " %  Módulo\n",
        " **  Exponenciación\n",
        "```"
      ],
      "metadata": {
        "id": "YqNsfAFm0TW3"
      }
    },
    {
      "cell_type": "code",
      "source": [
        "\n",
        "#División de los operandos 10 y 5\n",
        "print(f'Resultado de división entera: { }')\n",
        "\n",
        "#Suma de los operandos 10 y 5\n",
        "print(f'Resultado de suma: { }')\n",
        "\n",
        "#División de los operandos 10 y 5\n",
        "print(f'Resultado de división: { }')\n",
        "\n",
        "#Resta de los operandos 10 y 5\n",
        "print(f'Resultado de resta: { }')\n",
        "\n",
        "#Exponenciación de los operandos 10 y 2\n",
        "print(f'Resultado de exponenciación: { }')\n",
        "\n",
        "#Multiplicación de los operandos 10 y 5\n",
        "print(f'Resultado de multiplicación: { }')\n",
        "\n",
        "#Módulo de los operandos 10 y 3\n",
        "print(f'Resultado de módulo: { }')\n",
        "\n"
      ],
      "metadata": {
        "id": "3_0ryDh9vFzB"
      },
      "execution_count": null,
      "outputs": []
    },
    {
      "cell_type": "markdown",
      "source": [
        "### Operadores relacionales\n",
        "\n",
        "Los operadores relacionales en Python se utilizan para comparar valores de variables y/o constantes y retornan un resultado booleano (True o False) según se cumpla o no se cumpla la condición. Los operadores principales son los siguientes:\n",
        "\n",
        "```\n",
        "== Igualdad\n",
        "!= No igual\n",
        "> Mayor que\n",
        "< Menor que\n",
        ">= Mayor o igual que\n",
        "<= Menor o igual que\n",
        "```"
      ],
      "metadata": {
        "id": "cj5BUsSl3xEo"
      }
    },
    {
      "cell_type": "code",
      "source": [
        "#Condicional de Igualdad entre los números 5 y 5\n",
        "print(f'Resultado de Igualdad de los números 5 y 5: {5 == 5}')\n",
        "#Condicional de Igualdad entre los operandos 5 y 5\n",
        "print(f'Resultado de Igualdad de los números 5 y 5.5: {5 == 5.5}')\n",
        "\n",
        "#Condicional de No igual entre los números 5 y 5\n",
        "print(f'\\nResultado de No igual de los números 5 y 5: {5 != 5}')\n",
        "#Condicional de No igual entre los números 5 y 5.5\n",
        "print(f'Resultado de No igual de los números 5 y 5: {5 != 5.5}')\n",
        "\n",
        "#Condicional de Mayor que entre los números 5 y 5\n",
        "print(f'\\nResultado de Mayor que de los números 5 y 5: {5 > 5}')\n",
        "#Condicional de Mayor que entre los números 5 y 2\n",
        "print(f'Resultado de Mayor que de los números 5 y 2: {5 > 2}')\n",
        "\n",
        "#Condicional de Menor que entre los números 5 y 5\n",
        "print(f'\\nResultado de Menor que de los números 5 y 5: {5 < 5}')\n",
        "#Condicional de Menor que entre los números 2 y 5\n",
        "print(f'Resultado de Menor que de los números 2 y 5: {2 < 5}')\n",
        "\n",
        "#Condicional de Mayor o igual que entre los números 5 y 5\n",
        "print(f'\\nResultado de Mayor o igual que de los números 5 y 5: {5 >= 5}')\n",
        "#Condicional de Mayor o igual que entre los números 5 y 2\n",
        "print(f'Resultado de Mayor o igual que de los números 5 y 2: {5 >= 2}')\n",
        "\n",
        "#Condicional de Menor o igual que entre los números 5 y 5\n",
        "print(f'\\nResultado de Menor o igual que de los números 5 y 5: {5 <= 5}')\n",
        "#Condicional de Menor o igual que entre los números 2 y 5\n",
        "print(f'Resultado de Menor o igual que de los números 2 y 5: {2 <= 5}')\n"
      ],
      "metadata": {
        "id": "sIfjmFuw1ywj"
      },
      "execution_count": null,
      "outputs": []
    },
    {
      "cell_type": "markdown",
      "source": [
        "### Operadores lógicos\n",
        "\n",
        "Los operadores lógicos en Python se utilizan para realizar operaciones o comparaciones lógicas entre variables y/o constantes. Los operadores principales son los siguientes:\n",
        "\n",
        "```\n",
        "and El AND lógico retorna como salida TRUE si ambos operando son verdaderos, de lo contrario devuelve FALSE\n",
        "\n",
        "or El OR lógico retorna como salida TRUE si al menos uno de los operandos es verdadero, de lo contrario devuelve FALSE\n",
        "\n",
        "not El NOT lógico retorna como salida el valor opuesto de un operador booleano.\n",
        "    Si el operador es True se retorna un False, y si el operador es False se retorna True.\n",
        "```"
      ],
      "metadata": {
        "id": "BgOw2mcP-Z2q"
      }
    },
    {
      "cell_type": "code",
      "source": [
        "print(f'Resultado del operador AND: {True and True}')\n",
        "print(f'Resultado del operador AND: {True and False}')\n",
        "print(f'Resultado del operador AND: {False and True}')\n",
        "print(f'Resultado del operador AND: {False and False}')\n",
        "\n",
        "print(f'\\nResultado del operador OR: {True or True}')\n",
        "print(f'Resultado del operador OR: {True or False}')\n",
        "print(f'Resultado del operador OR: {False or True}')\n",
        "print(f'Resultado del operador OR: {False or False}')"
      ],
      "metadata": {
        "id": "-LgqHC4zCgoT"
      },
      "execution_count": null,
      "outputs": []
    },
    {
      "cell_type": "markdown",
      "source": [
        "### Operadores de asignación\n",
        "\n",
        "Los operadores de asignación en Python se utilizan para asignar valores a variables. Los principales operadores son los siguientes:\n",
        "\n",
        "```\n",
        "= La asignación simple asigna un valor de la expresión a la variable.\n",
        "\n",
        "+= La asignación con suma, le suma el valor de la expresión a la variable.\n",
        "\n",
        "-= La asignación con resta, le resta el valor de la expresión a la variable.\n",
        "\n",
        "*= La asignación con multiplicación, multiplica el valor de la expresión por el de lavariable\n",
        "    y el resultado es el nuevo valor de la variable.\n",
        "\n",
        "/= La asignación con división, divide el valor de la variable por el valor de la expresión\n",
        "    y el resultado es el nuevo valor de la variable.\n",
        "\n",
        "%= La asignación con módulo, calcula el módulo del valor de la variable por el valor de la expresión.\n",
        "\n",
        "**= La asignación con exponenciación eleva el valor de la variable a la potencia del valor de la expresión.\n",
        "```"
      ],
      "metadata": {
        "id": "ugUVsXkbEO5k"
      }
    },
    {
      "cell_type": "code",
      "source": [
        "#Asignación simple\n",
        "x = 5\n",
        "print(f'Resultado de asignación simple a x: {x}')\n",
        "\n",
        "#Asignación con suma\n",
        "x = 5\n",
        "x += 3  # x ahora es 8\n",
        "print(f'Resultado de asignación con suma a x: {x}')\n",
        "\n",
        "#Asignación con resta\n",
        "x = 5\n",
        "x -= 2  # x ahora es 3\n",
        "print(f'Resultado de asignación con resta a x: {x}')\n",
        "\n",
        "#Asignación con multiplicación\n",
        "x = 5\n",
        "x *= 4  # x ahora es 20\n",
        "print(f'Resultado de asignación con multiplicación a x: {x}')\n",
        "\n",
        "#Asignación con división\n",
        "x = 20\n",
        "x /= 5  # x ahora es 4.0 (devuelve un valor de punto flotante)\n",
        "print(f'Resultado de asignación con división a x: {x}')\n",
        "\n",
        "#Asignación con módulo\n",
        "x = 20\n",
        "x %= 3  # x ahora es 2 (devuelve el resto de la división)\n",
        "print(f'Resultado de asignación con módulo a x: {x}')\n",
        "\n",
        "#Asignación con exponenciación\n",
        "x = 2\n",
        "x **= 3  # x ahora es 8 (2 elevado a la potencia de 3)\n",
        "print(f'Resultado de asignación con exponenciación a x: {x}')"
      ],
      "metadata": {
        "id": "n3qmv9boCzGc"
      },
      "execution_count": null,
      "outputs": []
    },
    {
      "cell_type": "markdown",
      "source": [
        "### Operador de identidad\n",
        "Se utiliza para comparar dos objetos y devuelve verdadero si ambos son el mismo objeto.\n",
        "\n",
        " Python es un lenguaje orientado a objetos, lo que significa que casi todo en Python es un objeto, incluyendo tipos de datos simples como enteros, flotantes y cadenas, así como tipos de datos más complejos como listas, diccionarios y clases definidas por el usuario."
      ],
      "metadata": {
        "id": "mXf1OrLHH9IJ"
      }
    },
    {
      "cell_type": "code",
      "source": [
        "x = [1, 2, 3]\n",
        "y = x\n",
        "print(x is y)"
      ],
      "metadata": {
        "id": "gjgSBvRSGjFS"
      },
      "execution_count": null,
      "outputs": []
    },
    {
      "cell_type": "markdown",
      "source": [
        "### Operador de membresía\n",
        "\n",
        "Se utiliza para saber si un valor está contenido en una lista u otra secuencia."
      ],
      "metadata": {
        "id": "8VipyU_pI1e3"
      }
    },
    {
      "cell_type": "code",
      "source": [
        "lista = [1, 2, 3, 4, 5]\n",
        "print(3 in lista)"
      ],
      "metadata": {
        "id": "ojkq5BbbIzoJ"
      },
      "execution_count": null,
      "outputs": []
    },
    {
      "cell_type": "markdown",
      "source": [
        "## Estructuras de selección o condicionales\n",
        "\n",
        "\n",
        "Estas estructuras permiten decidir qué instrucciones se ejecutarán y en qué orden, basándose en condiciones lógicas o en la iteración sobre datos.\n",
        "\n",
        "```\n",
        "if: Permite ejecutar un bloque de código si se cumple una condición.\n",
        "\n",
        "condition = True\n",
        "if condition == True:\n",
        "    # do something\n",
        "\n",
        "else: Permite ejecutar un bloque de código si la condición del if no se cumple.\n",
        "\n",
        "elif: Permite agregar múltiples condiciones intermedias entre un if y un else.\n",
        "```"
      ],
      "metadata": {
        "id": "0DJ6sTu8J5RV"
      }
    },
    {
      "cell_type": "code",
      "source": [
        "# Definir un número\n",
        "numero = 10\n",
        "\n",
        "# Estructura de control utilizando el condicional if, elif, else\n",
        "if numero > 0:\n",
        "    print(\"El número es positivo.\")\n",
        "elif numero < 0:\n",
        "    print(\"El número es negativo.\")\n",
        "else:\n",
        "    print(\"El número es cero.\")\n"
      ],
      "metadata": {
        "id": "pgzkXVe-JMdM"
      },
      "execution_count": null,
      "outputs": []
    },
    {
      "cell_type": "code",
      "source": [
        "## Primer ejemplo del uso del operador lógico not\n",
        "tiene_hambre = False  # La persona no tiene hambre\n",
        "\n",
        "if not tiene_hambre:\n",
        "    print(\"La persona no tiene hambre, puede esperar para comer.\")\n",
        "else:\n",
        "    print(\"La persona tiene hambre, es hora de comer.\")"
      ],
      "metadata": {
        "id": "5d5gb3MSLoAy"
      },
      "execution_count": null,
      "outputs": []
    },
    {
      "cell_type": "code",
      "source": [
        "## Segundo ejemplo del uso del operador lógico not\n",
        "llueve = True  # Está lloviendo\n",
        "\n",
        "if not llueve:\n",
        "    print(\"Hoy no llueve.\")\n",
        "else:\n",
        "    print(\"Hoy llueve.\")"
      ],
      "metadata": {
        "id": "J6mKXCMJLrFK"
      },
      "execution_count": null,
      "outputs": []
    },
    {
      "cell_type": "code",
      "source": [
        "#Comentar paso a paso la lógica del siguiente código\n",
        "\n",
        "condition = True\n",
        "name = \"Edna\"\n",
        "if condition == True:\n",
        "    print(\"La condicional fue verdadera\")\n",
        "elif name == \"Edna\":\n",
        "    print(\"Hello Edna\")\n",
        "else:\n",
        "    print(\"La condicional fue falsa\")"
      ],
      "metadata": {
        "id": "NxIbPwDnMAgo"
      },
      "execution_count": null,
      "outputs": []
    },
    {
      "cell_type": "markdown",
      "source": [
        "# Estructuras de iteración o ciclos"
      ],
      "metadata": {
        "id": "M6HMZKSAM3jr"
      }
    },
    {
      "cell_type": "markdown",
      "source": [
        "### Ciclo 'for'\n",
        "\n",
        "Lasintaxis para definir un cilo 'for' en Python es la siguiente:\n",
        "\n",
        "```\n",
        "for variable in objeto_iterable:\n",
        "    # Bloque de código a ejecutar en cada iteración\n",
        "```"
      ],
      "metadata": {
        "id": "AhAXD-VCNGud"
      }
    },
    {
      "cell_type": "code",
      "source": [
        "#Ejemplo de iteración con el ciclo for a la lista números\n",
        "numeros = [1, 2, 3, 4, 5]\n",
        "for numero in numeros:\n",
        "    print(numero)"
      ],
      "metadata": {
        "id": "pZyBD26xM3Ss"
      },
      "execution_count": null,
      "outputs": []
    },
    {
      "cell_type": "markdown",
      "source": [
        "### Ciclo 'while'\n",
        "\n",
        "La sintaxis general para un ciclo 'while' en Python es:\n",
        "\n",
        "```\n",
        "while condicion:\n",
        "    # Bloque de código a ejecutar mientras la condición sea verdadera\n",
        "```\n",
        "\n",
        "Donde 'condicion' es una expresión booleana que se evalúa en cada iteración del ciclo. Mientras esta condición sea verdadera, el ciclo continuará ejecutándose.\n"
      ],
      "metadata": {
        "id": "-Dvuj5emN2Np"
      }
    },
    {
      "cell_type": "code",
      "source": [
        "#Ejemplo de implementación de un ciclo while\n",
        "numero = 1\n",
        "while numero <= 5:\n",
        "    print(numero)\n",
        "    numero += 1"
      ],
      "metadata": {
        "id": "yN2XOzOgMBUf"
      },
      "execution_count": null,
      "outputs": []
    },
    {
      "cell_type": "markdown",
      "source": [
        "### Estructuras de control de flujo\n",
        "\n",
        "Las palabras reservadas (clave) 'break' y 'continue' son utilizadas en Python para controlar el flujo de ejecución en ciclos y estructuras condicionales.\n",
        "\n",
        "```\n",
        "break Permite salir del ciclo actual de manera prematura.\n",
        "\n",
        "continue Permite saltar a la siguiente iteración del ciclo sin ejecutar el resto del código dentro del ciclo.\n",
        "```"
      ],
      "metadata": {
        "id": "hpu-g7OuO6fX"
      }
    },
    {
      "cell_type": "code",
      "source": [
        "#Ejemplo del uso de la palabra break y continue\n",
        "for numero in range(1, 11):\n",
        "    if numero == 5:\n",
        "        break  # Salir del bucle cuando el número sea 5\n",
        "    elif numero == 7:\n",
        "        continue  # Saltar la impresión del número 7\n",
        "    print(numero)\n"
      ],
      "metadata": {
        "id": "vuJJmc2SOTSS"
      },
      "execution_count": null,
      "outputs": []
    },
    {
      "cell_type": "code",
      "source": [],
      "metadata": {
        "id": "dX46eWznQfXA"
      },
      "execution_count": null,
      "outputs": []
    }
  ]
}